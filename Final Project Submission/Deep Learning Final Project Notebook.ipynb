{
  "cells": [
    {
      "cell_type": "markdown",
      "source": [
        "***DISCLAIMER:***\n",
        "\n",
        "This code was supplied by tommarvoloriddle and can be found at: https://github.com/tommarvoloriddle/Bilinear-CNN-Tensorflow2.4-implementation.  \n",
        "\n",
        "Our changes include:\n",
        "\n",
        "   1)  Adding the first cell below importing Google Colab drive and zipfile.  These changes were necessary for us to run our model and train it with our datasets on Google Colab.\n",
        "\n",
        "   2)  Importing Pillow's Image and ImageFile.  This allowed us to use Google Colab for some of our larger datasets.\n",
        "\n",
        "   3)  Our final change is in the model structure.  We had to change the size of the output layer to reflect how many classes we had as possible classification solutions. \n",
        "\n",
        "   4)  We edited filepaths to point to the directories of our choice where applicable. \n",
        "\n",
        "\n",
        "  For any further questions please contact: William Connor Parham, Abdurhman Bahour, or Coby White at the following respective emails: wparham1@vols.utk.edu, abahour2@vols.utk.edu, or cwhit152@vols.utk.edu\n"
      ],
      "metadata": {
        "id": "mxrWx6B3uWmh"
      }
    },
    {
      "cell_type": "code",
      "execution_count": null,
      "metadata": {
        "colab": {
          "base_uri": "https://localhost:8080/"
        },
        "id": "9V6YbQeDJim-",
        "outputId": "079b79f4-c937-467b-85cc-a799353e7cde"
      },
      "outputs": [
        {
          "output_type": "stream",
          "name": "stdout",
          "text": [
            "Mounted at /content/drive\n"
          ]
        }
      ],
      "source": [
        "from google.colab import drive\n",
        "from zipfile import ZipFile \n",
        "\n",
        "drive.mount('/content/drive', force_remount=True) \n",
        "\n",
        "\n",
        "file_name = '/content/drive/MyDrive/Stanford Dogs edited.zip'\n",
        "with ZipFile(file_name, 'r') as zip:\n",
        "  zip.extractall()\n",
        "\n",
        "file_name = '/content/drive/MyDrive/stanford cats small.zip'\n",
        "# file_name = \"/content/Stanford Dogs edited.zip\"\n",
        "with ZipFile(file_name, 'r') as zip:\n",
        "  zip.extractall()"
      ]
    },
    {
      "cell_type": "code",
      "source": [
        "from PIL import Image, ImageFile\n",
        "ImageFile.LOAD_TRUNCATED_IMAGES = True"
      ],
      "metadata": {
        "id": "QXK2gzgUQG3t"
      },
      "execution_count": null,
      "outputs": []
    },
    {
      "cell_type": "code",
      "execution_count": null,
      "metadata": {
        "id": "PTk_L2H8bkE3",
        "colab": {
          "base_uri": "https://localhost:8080/"
        },
        "outputId": "2a4f73c3-1b0d-47b9-9632-6311844369dc"
      },
      "outputs": [
        {
          "output_type": "stream",
          "name": "stdout",
          "text": [
            "'20p cats 80p dogs'   model_bilin_dropout  'stanford cats'\t'Stanford Dogs'\n",
            " drive\t\t      sample_data\t   'stanford combined'\n"
          ]
        }
      ],
      "source": [
        "!ls "
      ]
    },
    {
      "cell_type": "code",
      "execution_count": null,
      "metadata": {
        "id": "mwZDaOkweLky"
      },
      "outputs": [],
      "source": [
        "import tensorflow as tf\n",
        "import pandas as pd\n",
        "import numpy as np\n",
        "import os\n",
        "import matplotlib.pyplot as plt\n",
        "import matplotlib.mlab as mlab\n",
        "import matplotlib as mpl\n",
        "import cv2\n",
        "import time\n",
        "import PIL\n",
        "from tensorflow import keras\n",
        "from tensorflow.keras import layers\n",
        "from tensorflow.keras.applications.resnet50 import ResNet50\n",
        "from tensorflow.keras.preprocessing import image\n",
        "from tensorflow.keras.applications.resnet50 import preprocess_input, decode_predictions\n",
        "import numpy as np\n",
        "#from keras.initializers import glorot_normal\n",
        "physical_devices = tf.config.experimental.list_physical_devices('GPU')\n",
        "if len(physical_devices) > 0:\n",
        "   tf.config.experimental.set_memory_growth(physical_devices[0], True)\n",
        "from matplotlib import pyplot\n",
        "#from keras.layers import Conv2D, MaxPooling2D, Flatten, Dense, Dropout"
      ]
    },
    {
      "cell_type": "code",
      "execution_count": null,
      "metadata": {
        "id": "3KuigXm3WTzI"
      },
      "outputs": [],
      "source": [
        "\"\"\"\n",
        "Calculates dot product of x[0] and x[1] for mini_batch \n",
        "\n",
        "Assuming both have same size and shape\n",
        "\n",
        "@param\n",
        "x -> [ (size_minibatch, total_pixels, size_filter), (size_minibatch, total_pixels, size_filter) ]\n",
        "\n",
        "\"\"\"\n",
        "def dot_product(x):\n",
        "\n",
        "    return keras.backend.batch_dot(x[0], x[1], axes=[1,1]) / x[0].get_shape().as_list()[1] \n",
        "\n",
        "\"\"\"\n",
        "Calculate signed square root\n",
        "\n",
        "@param\n",
        "x -> a tensor\n",
        "\n",
        "\"\"\"\n",
        "\n",
        "def signed_sqrt(x):\n",
        "\n",
        "    return keras.backend.sign(x) * keras.backend.sqrt(keras.backend.abs(x) + 1e-9)\n",
        "\n",
        "\"\"\"\n",
        "Calculate L2-norm\n",
        "\n",
        "@param\n",
        "x -> a tensor\n",
        "\n",
        "\"\"\"\n",
        "\n",
        "def L2_norm(x, axis=-1):\n",
        "\n",
        "    return keras.backend.l2_normalize(x, axis=axis)"
      ]
    },
    {
      "cell_type": "code",
      "execution_count": null,
      "metadata": {
        "id": "g8p9B3dVdwPG"
      },
      "outputs": [],
      "source": [
        "'''\n",
        "\n",
        "    Take outputs of last layer of VGG and Droput 50% \n",
        "    load it into Lambda layer which calculates outer product.\n",
        "    \n",
        "    Here both bi-linear branches have same shape.\n",
        "    \n",
        "    z -> output shape tuple\n",
        "    x -> outpur og VGG tensor\n",
        "    y -> copy of x as we modify x, we use x, y for outer product.\n",
        "    \n",
        "'''\n",
        "\n",
        "def build_model():\n",
        "    tensor_input = keras.layers.Input(shape=[150,150,3])\n",
        "    \n",
        "    model1 = tf.keras.models.Sequential()\n",
        "    model1 = layers.Conv2D(64, (3, 3), activation='relu')(tensor_input)\n",
        "    model1 = (layers.MaxPooling2D((2, 2)))(model1)\n",
        "    model1 = (layers.Conv2D(128, (3, 3), activation='relu'))(model1)\n",
        "    model1 = (layers.MaxPooling2D((2, 2)))(model1)\n",
        "    model1 = (layers.Conv2D(128, (3, 3), activation='relu'))(model1)\n",
        "    model1 = keras.models.Model(inputs=tensor_input, outputs = model1)\n",
        "    \n",
        "    #print(model1.summary())\n",
        "\n",
        "    \n",
        "    model2 = tf.keras.models.Sequential()\n",
        "    model2 = layers.Conv2D(64, (3, 3), activation='relu')(tensor_input)\n",
        "    model2 = (layers.MaxPooling2D((2, 2)))(model2)\n",
        "    model2 = (layers.Conv2D(128, (3, 3), activation='relu'))(model2)\n",
        "    model2 = (layers.MaxPooling2D((2, 2)))(model2)\n",
        "    model2 = (layers.Conv2D(128, (3, 3), activation='relu'))(model2)\n",
        "    model2 = keras.models.Model(inputs=tensor_input, outputs = model2)\n",
        "\n",
        "    #print(model2.summary())\n",
        "    \n",
        "    x = model1.output\n",
        "    z = model2.output_shape\n",
        "    y = model2.output\n",
        "    \n",
        "\n",
        "#   rehape to (batch_size, total_pixels, filter_size)\n",
        "    x = keras.layers.Reshape([z[1] * z[2] , z[-1]])(x)\n",
        "        \n",
        "    y = keras.layers.Reshape([z[1] * z[2] , z[-1]])(y)\n",
        "    \n",
        "#   outer products of x, y\n",
        "    x = keras.layers.Lambda(dot_product)([x, y])\n",
        "    \n",
        "#   rehape to (batch_size, filter_size_vgg_last_layer*filter_vgg_last_layer)\n",
        "    x = keras.layers.Reshape([z[-1]*z[-1]])(x)\n",
        "        \n",
        "#   signed_sqrt\n",
        "    x = keras.layers.Lambda(signed_sqrt)(x)\n",
        "        \n",
        "#   L2_norm\n",
        "    x = keras.layers.Lambda(L2_norm)(x)\n",
        "\n",
        "#   FC-Layer\n",
        "\n",
        "    initializer = tf.keras.initializers.GlorotNormal()\n",
        "            \n",
        "    x = keras.layers.Dense(units=120, \n",
        "                           kernel_regularizer=keras.regularizers.l2(0.0),\n",
        "                           kernel_initializer=initializer)(x)\n",
        "\n",
        "    tensor_prediction = keras.layers.Activation(\"softmax\")(x)\n",
        "\n",
        "    model_bilinear = keras.models.Model(inputs=[tensor_input],\n",
        "                                        outputs=[tensor_prediction])\n",
        "    \n",
        "\n",
        "\n",
        "    # sgd = keras.optimizers.SGD(learning_rate=1.0, \n",
        "    #                            decay=0.0,\n",
        "    #                            momentum=0.9)\n",
        "\n",
        "    sgd = tf.keras.optimizers.legacy.SGD(learning_rate=1.0,\n",
        "                                          decay=0.0,\n",
        "                                          momentum=0.9)\n",
        "\n",
        "    model_bilinear.compile(loss=\"categorical_crossentropy\", \n",
        "                           optimizer=sgd,\n",
        "                           metrics=[\"categorical_accuracy\"])\n",
        "\n",
        "    #model_bilinear.summary()\n",
        "    \n",
        "    return model_bilinear"
      ]
    },
    {
      "cell_type": "code",
      "execution_count": null,
      "metadata": {
        "id": "XPooGCUVdyWl"
      },
      "outputs": [],
      "source": [
        "model = build_model()"
      ]
    },
    {
      "cell_type": "code",
      "execution_count": null,
      "metadata": {
        "id": "0p6eaSIPd0Kg"
      },
      "outputs": [],
      "source": [
        "train_datagen = image.ImageDataGenerator(\n",
        "        rotation_range=40,\n",
        "        width_shift_range=0.2,\n",
        "        height_shift_range=0.2,\n",
        "        fill_mode='nearest',\n",
        "        rescale=1./255,\n",
        "        shear_range=0.2,\n",
        "        zoom_range=0.2,\n",
        "        horizontal_flip=True)\n",
        "test_datagen = image.ImageDataGenerator(rescale=1./255)"
      ]
    },
    {
      "cell_type": "code",
      "execution_count": null,
      "metadata": {
        "colab": {
          "base_uri": "https://localhost:8080/"
        },
        "id": "aJAxWHbed2QO",
        "outputId": "131a4adb-7116-4130-dd9e-8c7ea535e436"
      },
      "outputs": [
        {
          "output_type": "stream",
          "name": "stdout",
          "text": [
            "Found 10122 images belonging to 120 classes.\n",
            "Found 2333 images belonging to 120 classes.\n",
            "Found 8580 images belonging to 120 classes.\n"
          ]
        }
      ],
      "source": [
        "train_generator = train_datagen.flow_from_directory(\n",
        "        '/content/Stanford Dogs/train',\n",
        "        target_size=(150, 150),\n",
        "        color_mode=\"rgb\",\n",
        "        batch_size=32,\n",
        "        subset='training',\n",
        "        class_mode='categorical')\n",
        "val_generator = test_datagen.flow_from_directory(\n",
        "        '/content/Stanford Dogs/validation',\n",
        "        target_size=(150, 150),\n",
        "        color_mode=\"rgb\",\n",
        "        batch_size=32,\n",
        "        subset='training',\n",
        "        class_mode='categorical')\n",
        "test_generator = test_datagen.flow_from_directory(\n",
        "        '/content/Stanford Dogs/test',\n",
        "        target_size=(150, 150),\n",
        "        color_mode=\"rgb\",\n",
        "        shuffle = False,\n",
        "        class_mode=None,\n",
        "        batch_size=1)"
      ]
    },
    {
      "cell_type": "code",
      "execution_count": null,
      "metadata": {
        "id": "tGo0RrDTd4wp"
      },
      "outputs": [],
      "source": [
        "\n",
        "def train_model(epochs):\n",
        "\n",
        "    hist = model.fit(\n",
        "                x=train_generator, \n",
        "                epochs=epochs, \n",
        "                validation_data=val_generator,\n",
        "                workers=1,\n",
        "                verbose=1\n",
        "            )\n",
        "    \n",
        "    return hist\n",
        "\n",
        "#     model.save_weights(\"./bilinear_weights/val_acc_\" + str(hist.history['val_categorical_accuracy'][-1]) +\"_\"+ str(epochs)+ \".h5\")"
      ]
    },
    {
      "cell_type": "code",
      "execution_count": null,
      "metadata": {
        "colab": {
          "base_uri": "https://localhost:8080/"
        },
        "id": "f8Gv7i6Id7wh",
        "outputId": "7ff02553-f0e3-496c-fedd-21b984a37be4"
      },
      "outputs": [
        {
          "output_type": "stream",
          "name": "stdout",
          "text": [
            "317/317 [==============================] - 79s 248ms/step - loss: 4.9059 - categorical_accuracy: 0.0088 - val_loss: 4.8925 - val_categorical_accuracy: 0.0069\n"
          ]
        }
      ],
      "source": [
        "hist=train_model(epochs=1)"
      ]
    },
    {
      "cell_type": "code",
      "execution_count": null,
      "metadata": {
        "id": "YF_JVKmWd-2D"
      },
      "outputs": [],
      "source": [
        "for layer in model.layers:\n",
        "    layer.trainable = True\n",
        "\n",
        "sgd = keras.optimizers.legacy.SGD(learning_rate=1e-3, decay=1e-9, momentum=0.9)\n",
        "\n",
        "model.compile(loss=\"categorical_crossentropy\", optimizer=sgd, metrics=[\"categorical_accuracy\"])"
      ]
    },
    {
      "cell_type": "code",
      "execution_count": null,
      "metadata": {
        "id": "MIW5xwn-eA-S"
      },
      "outputs": [],
      "source": [
        "# hist =train_model(epochs=1)"
      ]
    },
    {
      "cell_type": "code",
      "execution_count": null,
      "metadata": {
        "colab": {
          "base_uri": "https://localhost:8080/"
        },
        "id": "PUPN0_tgeHCG",
        "outputId": "179d9620-35a8-431c-aba9-9da0f0361fd8"
      },
      "outputs": [
        {
          "output_type": "stream",
          "name": "stderr",
          "text": [
            "WARNING:absl:Found untraced functions such as _jit_compiled_convolution_op, _jit_compiled_convolution_op, _jit_compiled_convolution_op, _jit_compiled_convolution_op, _jit_compiled_convolution_op while saving (showing 5 of 6). These functions will not be directly callable after loading.\n"
          ]
        }
      ],
      "source": [
        "model.save('./model_bilin_dropout')"
      ]
    },
    {
      "cell_type": "code",
      "execution_count": null,
      "metadata": {
        "colab": {
          "base_uri": "https://localhost:8080/",
          "height": 472
        },
        "id": "gDwD8SNleJVw",
        "outputId": "e4f5934a-7cf7-435d-a529-2e1e9c712164"
      },
      "outputs": [
        {
          "output_type": "display_data",
          "data": {
            "text/plain": [
              "<Figure size 640x480 with 1 Axes>"
            ],
            "image/png": "[encoded data removed]"
          },
          "metadata": {}
        }
      ],
      "source": [
        "# Plot history: MAE\n",
        "plt.plot(model.history.history['loss'], label='training data')\n",
        "plt.plot(model.history.history['val_loss'], label='validation data')\n",
        "plt.title('loss')\n",
        "plt.ylabel('loss')\n",
        "plt.xlabel('No. epoch')\n",
        "plt.legend(loc=\"upper right\")\n",
        "plt.show()"
      ]
    },
    {
      "cell_type": "code",
      "execution_count": null,
      "metadata": {
        "colab": {
          "base_uri": "https://localhost:8080/"
        },
        "id": "6q7VlHN-eM4h",
        "outputId": "6b7e6932-e079-4c97-8950-c03180a78902"
      },
      "outputs": [
        {
          "output_type": "stream",
          "name": "stdout",
          "text": [
            "\r   1/8580 [..............................] - ETA: 20:40"
          ]
        },
        {
          "output_type": "stream",
          "name": "stderr",
          "text": [
            "<ipython-input-74-9fcdc20f29af>:1: UserWarning: `Model.predict_generator` is deprecated and will be removed in a future version. Please use `Model.predict`, which supports generators.\n",
            "  preds = model.predict_generator(test_generator, verbose=1)\n"
          ]
        },
        {
          "output_type": "stream",
          "name": "stdout",
          "text": [
            "8580/8580 [==============================] - 33s 4ms/step\n"
          ]
        }
      ],
      "source": [
        "preds = model.predict_generator(test_generator, verbose=1)"
      ]
    },
    {
      "cell_type": "code",
      "execution_count": null,
      "metadata": {
        "colab": {
          "base_uri": "https://localhost:8080/"
        },
        "id": "P57u8VqxeNne",
        "outputId": "179ef5cf-a712-4c16-fe63-2e8011a4a370"
      },
      "outputs": [
        {
          "output_type": "execute_result",
          "data": {
            "text/plain": [
              "array([80, 80, 80, ..., 80, 80, 80])"
            ]
          },
          "metadata": {},
          "execution_count": 75
        }
      ],
      "source": [
        "preds_cls_idx = preds.argmax(axis=-1)\n",
        "preds_cls_idx"
      ]
    },
    {
      "cell_type": "code",
      "execution_count": null,
      "metadata": {
        "colab": {
          "base_uri": "https://localhost:8080/"
        },
        "id": "X3Rg1GlYeR-w",
        "outputId": "9b9b7401-de41-4785-f6bd-c2be0cf23259"
      },
      "outputs": [
        {
          "output_type": "execute_result",
          "data": {
            "text/plain": [
              "array(['n02106030-collie', 'n02106030-collie', 'n02106030-collie', ...,\n",
              "       'n02106030-collie', 'n02106030-collie', 'n02106030-collie'],\n",
              "      dtype='<U16')"
            ]
          },
          "metadata": {},
          "execution_count": 76
        }
      ],
      "source": [
        "idx_to_cls = {v: k for k, v in train_generator.class_indices.items()}\n",
        "preds_cls = np.vectorize(idx_to_cls.get)(preds_cls_idx)\n",
        "preds_cls"
      ]
    },
    {
      "cell_type": "code",
      "execution_count": null,
      "metadata": {
        "colab": {
          "base_uri": "https://localhost:8080/"
        },
        "id": "2nCiKqUbeUwj",
        "outputId": "9c425325-bb69-47e7-c2c0-366621d261c5"
      },
      "outputs": [
        {
          "output_type": "execute_result",
          "data": {
            "text/plain": [
              "8580"
            ]
          },
          "metadata": {},
          "execution_count": 77
        }
      ],
      "source": [
        "true_lables = []\n",
        "true_lables_upc_idx_map = {}\n",
        "true_lables_img = {}\n",
        "upc_list = os.listdir('/content/Stanford Dogs/test')\n",
        "idx = 0\n",
        "for upc in upc_list:\n",
        "    img_folder = '/content/Stanford Dogs/test/' + upc +'/'\n",
        "    img_list = os.listdir(img_folder)\n",
        "    for img in img_list:\n",
        "        true_lables.append(upc)\n",
        "        true_lables_upc_idx_map[idx] = upc\n",
        "        true_lables_img[idx] = img\n",
        "        idx += 1\n",
        "len(true_lables)"
      ]
    },
    {
      "cell_type": "code",
      "execution_count": null,
      "metadata": {
        "colab": {
          "base_uri": "https://localhost:8080/"
        },
        "id": "ZPjZTI7TeXuH",
        "outputId": "795012b7-544c-4378-c77a-ab29a3db06d3"
      },
      "outputs": [
        {
          "output_type": "execute_result",
          "data": {
            "text/plain": [
              "53"
            ]
          },
          "metadata": {},
          "execution_count": 78
        }
      ],
      "source": [
        "wrong_predicted = []\n",
        "count = 0\n",
        "for idx in range(0, len(preds_cls)):\n",
        "    if preds_cls[idx] != true_lables[idx]:\n",
        "        wrong_predicted.append(idx)\n",
        "    else:\n",
        "        count += 1\n",
        "count"
      ]
    },
    {
      "cell_type": "code",
      "execution_count": null,
      "metadata": {
        "colab": {
          "base_uri": "https://localhost:8080/"
        },
        "id": "6NaBfoUHeYvU",
        "outputId": "1a6e7154-2af2-407c-a9c5-b166585d8129"
      },
      "outputs": [
        {
          "output_type": "execute_result",
          "data": {
            "text/plain": [
              "8527"
            ]
          },
          "metadata": {},
          "execution_count": 79
        }
      ],
      "source": [
        "len(wrong_predicted)"
      ]
    },
    {
      "cell_type": "code",
      "execution_count": null,
      "metadata": {
        "colab": {
          "base_uri": "https://localhost:8080/"
        },
        "id": "dBK7y8U5ebNI",
        "outputId": "c3c4ce3f-d50d-472f-dbeb-a35e9769f789"
      },
      "outputs": [
        {
          "output_type": "execute_result",
          "data": {
            "text/plain": [
              "0.006177156177156177"
            ]
          },
          "metadata": {},
          "execution_count": 80
        }
      ],
      "source": [
        "accuracy = count/len(preds_cls)\n",
        "accuracy"
      ]
    },
    {
      "cell_type": "code",
      "execution_count": null,
      "metadata": {
        "colab": {
          "base_uri": "https://localhost:8080/"
        },
        "id": "2loSl73-ecsA",
        "outputId": "26d33579-23fb-4907-e16b-195606c1297f"
      },
      "outputs": [
        {
          "output_type": "execute_result",
          "data": {
            "text/plain": [
              "(119, 8527)"
            ]
          },
          "metadata": {},
          "execution_count": 81
        }
      ],
      "source": [
        "wrong_pred_upc = set()\n",
        "for label in wrong_predicted:\n",
        "    wrong_pred_upc.add(true_lables_upc_idx_map[label])\n",
        "len(wrong_pred_upc), len(wrong_predicted)"
      ]
    },
    {
      "cell_type": "code",
      "execution_count": null,
      "metadata": {
        "colab": {
          "base_uri": "https://localhost:8080/"
        },
        "id": "53jScpcBeeKb",
        "outputId": "ad9f4045-a7c3-40cf-d37f-f98b02d416df"
      },
      "outputs": [
        {
          "output_type": "execute_result",
          "data": {
            "text/plain": [
              "8527"
            ]
          },
          "metadata": {},
          "execution_count": 82
        }
      ],
      "source": [
        "images_pred_wrong = []\n",
        "for label in wrong_predicted:\n",
        "    images_pred_wrong.append(true_lables_img[label])\n",
        "len(images_pred_wrong)"
      ]
    },
    {
      "cell_type": "code",
      "execution_count": null,
      "metadata": {
        "colab": {
          "base_uri": "https://localhost:8080/"
        },
        "id": "_z9unmIteftM",
        "outputId": "fbf73da4-f97f-47f5-e02c-442b6b240023"
      },
      "outputs": [
        {
          "output_type": "execute_result",
          "data": {
            "text/plain": [
              "({'n02106030-collie': 8527}, 1)"
            ]
          },
          "metadata": {},
          "execution_count": 83
        }
      ],
      "source": [
        "d={}\n",
        "for i in range(0 ,len(images_pred_wrong)):\n",
        "    if preds_cls[i] not in d.keys():\n",
        "        d[preds_cls[i]] = 1\n",
        "    else:\n",
        "        d[preds_cls[i]] += 1\n",
        "d, len(d)"
      ]
    },
    {
      "cell_type": "code",
      "execution_count": null,
      "metadata": {
        "id": "ELh7y6aBehjk"
      },
      "outputs": [],
      "source": [
        "for i in range(0 ,len(images_pred_wrong)):\n",
        "    img ='/content/Stanford Dogs/test/' + true_lables_upc_idx_map[wrong_predicted[i]] + '/' + images_pred_wrong[i]\n",
        "    #print(img, preds_cls[i])"
      ]
    },
    {
      "cell_type": "code",
      "execution_count": null,
      "metadata": {
        "id": "tQGIE_SqekZ8"
      },
      "outputs": [],
      "source": [
        "from sklearn.metrics import f1_score,precision_score,recall_score,accuracy_score"
      ]
    },
    {
      "cell_type": "code",
      "execution_count": null,
      "metadata": {
        "colab": {
          "base_uri": "https://localhost:8080/"
        },
        "id": "B6RJxVTremXF",
        "outputId": "48e4bb37-363a-46c7-8cd9-4faa06801d5e"
      },
      "outputs": [
        {
          "output_type": "stream",
          "name": "stderr",
          "text": [
            "/usr/local/lib/python3.10/dist-packages/sklearn/metrics/_classification.py:1344: UndefinedMetricWarning: Precision is ill-defined and being set to 0.0 in labels with no predicted samples. Use `zero_division` parameter to control this behavior.\n",
            "  _warn_prf(average, modifier, msg_start, len(result))\n"
          ]
        }
      ],
      "source": [
        "f1 = f1_score(true_lables, preds_cls, average='weighted')\n",
        "precision = precision_score(true_lables, preds_cls, average='weighted')\n",
        "recall  = recall_score(true_lables, preds_cls, average='weighted')\n",
        "accuracy = accuracy_score(true_lables, preds_cls)"
      ]
    },
    {
      "cell_type": "code",
      "execution_count": null,
      "metadata": {
        "colab": {
          "base_uri": "https://localhost:8080/"
        },
        "id": "rY3zIoIGenBO",
        "outputId": "22574037-2d2e-46e6-fd5c-84dac3eb4abb"
      },
      "outputs": [
        {
          "output_type": "stream",
          "name": "stdout",
          "text": [
            "f1 : 7.584600426022876e-05\n",
            "precision : 3.815725843697872e-05\n",
            "recall : 0.006177156177156177\n",
            "accuracy : 0.006177156177156177\n"
          ]
        }
      ],
      "source": [
        "print(\"f1 :\", f1)\n",
        "print(\"precision :\", precision)\n",
        "print(\"recall :\", recall)\n",
        "print(\"accuracy :\", accuracy)"
      ]
    },
    {
      "cell_type": "code",
      "execution_count": null,
      "metadata": {
        "id": "T17_yRyVeoSi"
      },
      "outputs": [],
      "source": []
    }
  ],
  "metadata": {
    "accelerator": "GPU",
    "colab": {
      "provenance": []
    },
    "gpuClass": "standard",
    "kernelspec": {
      "display_name": "Python 3",
      "name": "python3"
    },
    "language_info": {
      "name": "python"
    }
  },
  "nbformat": 4,
  "nbformat_minor": 0
}