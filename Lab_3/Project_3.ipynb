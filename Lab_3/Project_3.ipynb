{
 "cells": [
  {
   "cell_type": "code",
   "execution_count": 24,
   "metadata": {},
   "outputs": [],
   "source": [
    "import os\n",
    "import numpy as np\n",
    "import pandas as pd\n",
    "from numpy import array\n",
    "from tensorflow.keras.utils import to_categorical\n",
    "from tensorflow.keras.models import Sequential\n",
    "from tensorflow import keras\n",
    "from tensorflow.keras import layers\n",
    "import tensorflow as tf\n",
    "from PIL import Image\n",
    "from sklearn.preprocessing import MinMaxScaler\n",
    "from sklearn.preprocessing import OneHotEncoder"
   ]
  },
  {
   "cell_type": "code",
   "execution_count": 30,
   "metadata": {},
   "outputs": [],
   "source": [
    "def run_task_1(training_images, testing_images, labels):\n",
    "    #Construct network model\n",
    "    task1_model = Sequential()\n",
    "    task1_model.add(layers.Dense(units=1024,input_shape=(1024,), activation='tanh'))\n",
    "    task1_model.add(layers.Dense(units=512, activation='sigmoid'))\n",
    "    task1_model.add(layers.Dense(units=100, activation='relu'))\n",
    "    task1_model.add(layers.Dense(units=9, activation='softmax'))\n",
    "    \n",
    "    #Create and fit the one hot encoder\n",
    "    enc = OneHotEncoder(handle_unknown='ignore',sparse=False)\n",
    "    encoded_labels = enc.fit_transform(labels)\n",
    "     \n",
    "    #Create and fit the scaler to the data\n",
    "    scaler = MinMaxScaler()\n",
    "    scaled_training_images=scaler.fit_transform(training_images)\n",
    "    \n",
    "    task1_model.compile(optimizer='sgd', loss='categorical_crossentropy', metrics=['accuracy'])\n",
    "    task1_model.fit(x=scaled_training_images,y=encoded_labels, epochs=3)\n",
    "    \n",
    "    return task1_model"
   ]
  },
  {
   "cell_type": "code",
   "execution_count": 18,
   "metadata": {},
   "outputs": [],
   "source": [
    "#read in training and testing csv with labels for our data\n",
    "training_df = pd.read_csv('fairface_label_train.csv', nrows=1000)\n",
    "\n",
    "training_df=training_df.drop('service_test',axis=1)\n",
    "training_df=training_df.drop('age',axis=1)\n",
    "training_df=training_df.drop('file',axis=1)\n",
    "\n",
    "testing_df = pd.read_csv('fairface_label_val.csv', nrows=1000)\n",
    "\n",
    "#read in images that we will be predicting on\n",
    "training_images = np.empty(shape=(1000,1024))\n",
    "for i in range(1, 1001):\n",
    "    f_string = 'train/' + str(i) + '.jpg'\n",
    "    im = Image.open(f_string)\n",
    "    im = np.array(im)\n",
    "    im = im.flatten()\n",
    "    training_images[i-1]=im\n",
    "    \n",
    "testing_images = np.empty(shape=(1000,1024))\n",
    "for i in range(1, 1001):\n",
    "    f_string = 'val/' + str(i) + '.jpg'\n",
    "    im = Image.open(f_string)\n",
    "    im = np.array(im)\n",
    "    im = im.flatten()\n",
    "    testing_images[i-1]=im"
   ]
  },
  {
   "cell_type": "code",
   "execution_count": 31,
   "metadata": {},
   "outputs": [
    {
     "name": "stdout",
     "output_type": "stream",
     "text": [
      "[array(['Female', 'Male'], dtype=object), array(['Black', 'East Asian', 'Indian', 'Latino_Hispanic',\n",
      "       'Middle Eastern', 'Southeast Asian', 'White'], dtype=object)]\n",
      "Epoch 1/3\n"
     ]
    },
    {
     "ename": "ValueError",
     "evalue": "in user code:\n\n    File \"c:\\Users\\conno\\AppData\\Local\\Programs\\Python\\Python39\\lib\\site-packages\\keras\\engine\\training.py\", line 878, in train_function  *\n        return step_function(self, iterator)\n    File \"c:\\Users\\conno\\AppData\\Local\\Programs\\Python\\Python39\\lib\\site-packages\\keras\\engine\\training.py\", line 867, in step_function  **\n        outputs = model.distribute_strategy.run(run_step, args=(data,))\n    File \"c:\\Users\\conno\\AppData\\Local\\Programs\\Python\\Python39\\lib\\site-packages\\keras\\engine\\training.py\", line 860, in run_step  **\n        outputs = model.train_step(data)\n    File \"c:\\Users\\conno\\AppData\\Local\\Programs\\Python\\Python39\\lib\\site-packages\\keras\\engine\\training.py\", line 809, in train_step\n        loss = self.compiled_loss(\n    File \"c:\\Users\\conno\\AppData\\Local\\Programs\\Python\\Python39\\lib\\site-packages\\keras\\engine\\compile_utils.py\", line 201, in __call__\n        loss_value = loss_obj(y_t, y_p, sample_weight=sw)\n    File \"c:\\Users\\conno\\AppData\\Local\\Programs\\Python\\Python39\\lib\\site-packages\\keras\\losses.py\", line 141, in __call__\n        losses = call_fn(y_true, y_pred)\n    File \"c:\\Users\\conno\\AppData\\Local\\Programs\\Python\\Python39\\lib\\site-packages\\keras\\losses.py\", line 245, in call  **\n        return ag_fn(y_true, y_pred, **self._fn_kwargs)\n    File \"c:\\Users\\conno\\AppData\\Local\\Programs\\Python\\Python39\\lib\\site-packages\\keras\\losses.py\", line 1664, in categorical_crossentropy\n        return backend.categorical_crossentropy(\n    File \"c:\\Users\\conno\\AppData\\Local\\Programs\\Python\\Python39\\lib\\site-packages\\keras\\backend.py\", line 4994, in categorical_crossentropy\n        target.shape.assert_is_compatible_with(output.shape)\n\n    ValueError: Shapes (None, 9) and (None, 2) are incompatible\n",
     "output_type": "error",
     "traceback": [
      "\u001b[1;31m---------------------------------------------------------------------------\u001b[0m",
      "\u001b[1;31mValueError\u001b[0m                                Traceback (most recent call last)",
      "\u001b[1;32mc:\\Users\\conno\\OneDrive\\Desktop\\Spring 2023\\CS424\\CS424-525-Deep-learning\\Lab_3\\Project_3.ipynb Cell 4\u001b[0m in \u001b[0;36m<cell line: 1>\u001b[1;34m()\u001b[0m\n\u001b[1;32m----> <a href='vscode-notebook-cell:/c%3A/Users/conno/OneDrive/Desktop/Spring%202023/CS424/CS424-525-Deep-learning/Lab_3/Project_3.ipynb#W5sZmlsZQ%3D%3D?line=0'>1</a>\u001b[0m mod \u001b[39m=\u001b[39m run_task_1(training_images\u001b[39m=\u001b[39;49mtraining_images, testing_images\u001b[39m=\u001b[39;49mtesting_images, labels\u001b[39m=\u001b[39;49mtraining_df)\n",
      "\u001b[1;32mc:\\Users\\conno\\OneDrive\\Desktop\\Spring 2023\\CS424\\CS424-525-Deep-learning\\Lab_3\\Project_3.ipynb Cell 4\u001b[0m in \u001b[0;36mrun_task_1\u001b[1;34m(training_images, testing_images, labels)\u001b[0m\n\u001b[0;32m     <a href='vscode-notebook-cell:/c%3A/Users/conno/OneDrive/Desktop/Spring%202023/CS424/CS424-525-Deep-learning/Lab_3/Project_3.ipynb#W5sZmlsZQ%3D%3D?line=14'>15</a>\u001b[0m scaled_training_images\u001b[39m=\u001b[39mscaler\u001b[39m.\u001b[39mfit_transform(training_images)\n\u001b[0;32m     <a href='vscode-notebook-cell:/c%3A/Users/conno/OneDrive/Desktop/Spring%202023/CS424/CS424-525-Deep-learning/Lab_3/Project_3.ipynb#W5sZmlsZQ%3D%3D?line=16'>17</a>\u001b[0m task1_model\u001b[39m.\u001b[39mcompile(optimizer\u001b[39m=\u001b[39m\u001b[39m'\u001b[39m\u001b[39msgd\u001b[39m\u001b[39m'\u001b[39m, loss\u001b[39m=\u001b[39m\u001b[39m'\u001b[39m\u001b[39mcategorical_crossentropy\u001b[39m\u001b[39m'\u001b[39m, metrics\u001b[39m=\u001b[39m[\u001b[39m'\u001b[39m\u001b[39maccuracy\u001b[39m\u001b[39m'\u001b[39m])\n\u001b[1;32m---> <a href='vscode-notebook-cell:/c%3A/Users/conno/OneDrive/Desktop/Spring%202023/CS424/CS424-525-Deep-learning/Lab_3/Project_3.ipynb#W5sZmlsZQ%3D%3D?line=17'>18</a>\u001b[0m task1_model\u001b[39m.\u001b[39;49mfit(x\u001b[39m=\u001b[39;49mscaled_training_images,y\u001b[39m=\u001b[39;49mencoded_labels, epochs\u001b[39m=\u001b[39;49m\u001b[39m3\u001b[39;49m)\n\u001b[0;32m     <a href='vscode-notebook-cell:/c%3A/Users/conno/OneDrive/Desktop/Spring%202023/CS424/CS424-525-Deep-learning/Lab_3/Project_3.ipynb#W5sZmlsZQ%3D%3D?line=19'>20</a>\u001b[0m \u001b[39mreturn\u001b[39;00m task1_model\n",
      "File \u001b[1;32mc:\\Users\\conno\\AppData\\Local\\Programs\\Python\\Python39\\lib\\site-packages\\keras\\utils\\traceback_utils.py:67\u001b[0m, in \u001b[0;36mfilter_traceback.<locals>.error_handler\u001b[1;34m(*args, **kwargs)\u001b[0m\n\u001b[0;32m     65\u001b[0m \u001b[39mexcept\u001b[39;00m \u001b[39mException\u001b[39;00m \u001b[39mas\u001b[39;00m e:  \u001b[39m# pylint: disable=broad-except\u001b[39;00m\n\u001b[0;32m     66\u001b[0m   filtered_tb \u001b[39m=\u001b[39m _process_traceback_frames(e\u001b[39m.\u001b[39m__traceback__)\n\u001b[1;32m---> 67\u001b[0m   \u001b[39mraise\u001b[39;00m e\u001b[39m.\u001b[39mwith_traceback(filtered_tb) \u001b[39mfrom\u001b[39;00m \u001b[39mNone\u001b[39m\n\u001b[0;32m     68\u001b[0m \u001b[39mfinally\u001b[39;00m:\n\u001b[0;32m     69\u001b[0m   \u001b[39mdel\u001b[39;00m filtered_tb\n",
      "File \u001b[1;32mc:\\Users\\conno\\AppData\\Local\\Programs\\Python\\Python39\\lib\\site-packages\\tensorflow\\python\\framework\\func_graph.py:1129\u001b[0m, in \u001b[0;36mfunc_graph_from_py_func.<locals>.autograph_handler\u001b[1;34m(*args, **kwargs)\u001b[0m\n\u001b[0;32m   1127\u001b[0m \u001b[39mexcept\u001b[39;00m \u001b[39mException\u001b[39;00m \u001b[39mas\u001b[39;00m e:  \u001b[39m# pylint:disable=broad-except\u001b[39;00m\n\u001b[0;32m   1128\u001b[0m   \u001b[39mif\u001b[39;00m \u001b[39mhasattr\u001b[39m(e, \u001b[39m\"\u001b[39m\u001b[39mag_error_metadata\u001b[39m\u001b[39m\"\u001b[39m):\n\u001b[1;32m-> 1129\u001b[0m     \u001b[39mraise\u001b[39;00m e\u001b[39m.\u001b[39mag_error_metadata\u001b[39m.\u001b[39mto_exception(e)\n\u001b[0;32m   1130\u001b[0m   \u001b[39melse\u001b[39;00m:\n\u001b[0;32m   1131\u001b[0m     \u001b[39mraise\u001b[39;00m\n",
      "\u001b[1;31mValueError\u001b[0m: in user code:\n\n    File \"c:\\Users\\conno\\AppData\\Local\\Programs\\Python\\Python39\\lib\\site-packages\\keras\\engine\\training.py\", line 878, in train_function  *\n        return step_function(self, iterator)\n    File \"c:\\Users\\conno\\AppData\\Local\\Programs\\Python\\Python39\\lib\\site-packages\\keras\\engine\\training.py\", line 867, in step_function  **\n        outputs = model.distribute_strategy.run(run_step, args=(data,))\n    File \"c:\\Users\\conno\\AppData\\Local\\Programs\\Python\\Python39\\lib\\site-packages\\keras\\engine\\training.py\", line 860, in run_step  **\n        outputs = model.train_step(data)\n    File \"c:\\Users\\conno\\AppData\\Local\\Programs\\Python\\Python39\\lib\\site-packages\\keras\\engine\\training.py\", line 809, in train_step\n        loss = self.compiled_loss(\n    File \"c:\\Users\\conno\\AppData\\Local\\Programs\\Python\\Python39\\lib\\site-packages\\keras\\engine\\compile_utils.py\", line 201, in __call__\n        loss_value = loss_obj(y_t, y_p, sample_weight=sw)\n    File \"c:\\Users\\conno\\AppData\\Local\\Programs\\Python\\Python39\\lib\\site-packages\\keras\\losses.py\", line 141, in __call__\n        losses = call_fn(y_true, y_pred)\n    File \"c:\\Users\\conno\\AppData\\Local\\Programs\\Python\\Python39\\lib\\site-packages\\keras\\losses.py\", line 245, in call  **\n        return ag_fn(y_true, y_pred, **self._fn_kwargs)\n    File \"c:\\Users\\conno\\AppData\\Local\\Programs\\Python\\Python39\\lib\\site-packages\\keras\\losses.py\", line 1664, in categorical_crossentropy\n        return backend.categorical_crossentropy(\n    File \"c:\\Users\\conno\\AppData\\Local\\Programs\\Python\\Python39\\lib\\site-packages\\keras\\backend.py\", line 4994, in categorical_crossentropy\n        target.shape.assert_is_compatible_with(output.shape)\n\n    ValueError: Shapes (None, 9) and (None, 2) are incompatible\n"
     ]
    }
   ],
   "source": [
    "mod = run_task_1(training_images=training_images, testing_images=testing_images, labels=training_df)"
   ]
  }
 ],
 "metadata": {
  "kernelspec": {
   "display_name": "Python 3",
   "language": "python",
   "name": "python3"
  },
  "language_info": {
   "codemirror_mode": {
    "name": "ipython",
    "version": 3
   },
   "file_extension": ".py",
   "mimetype": "text/x-python",
   "name": "python",
   "nbconvert_exporter": "python",
   "pygments_lexer": "ipython3",
   "version": "3.9.7"
  },
  "orig_nbformat": 4
 },
 "nbformat": 4,
 "nbformat_minor": 2
}
