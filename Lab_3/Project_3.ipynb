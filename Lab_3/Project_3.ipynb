{
 "cells": [
  {
   "cell_type": "code",
   "execution_count": 2,
   "metadata": {},
   "outputs": [],
   "source": [
    "import os\n",
    "from numpy import array\n",
    "from pickle import dump\n",
    "from tensorflow.keras.utils import to_categorical\n",
    "from tensorflow.keras.models import Sequential\n",
    "from tensorflow.keras.layers import Dense\n",
    "from tensorflow.keras.layers import LSTM, SimpleRNN\n",
    "import tensorflow as tf\n",
    "from tensorflow import keras\n",
    "from tensorflow.keras import layers\n",
    "from tensorflow.keras import activations"
   ]
  },
  {
   "cell_type": "code",
   "execution_count": null,
   "metadata": {},
   "outputs": [],
   "source": [
    "#Now we will build the neural network model\n",
    "model = Sequential()\n",
    "\n",
    "#Adding the input layer\n",
    "model.add(layers.Dense(units=1024,input_shape=(1,1,1024)))\n",
    "\n",
    "#Adding the first hidden layer\n",
    "model.add(layers.Dense(units=1024, activation='tanh'))\n",
    "\n",
    "#Adding the second hidden layer\n",
    "model.add(layers.Dense(units=512, activation='sigmoid'))\n",
    "\n",
    "#Adding the third hidden layer\n",
    "model.add(layers.Dense(units=100, activation='relu'))\n",
    "\n",
    "#Adding the output layer\n",
    "model.add(layers.Dense(units=2, activation='softmax'))"
   ]
  }
 ],
 "metadata": {
  "kernelspec": {
   "display_name": "Python 3",
   "language": "python",
   "name": "python3"
  },
  "language_info": {
   "codemirror_mode": {
    "name": "ipython",
    "version": 3
   },
   "file_extension": ".py",
   "mimetype": "text/x-python",
   "name": "python",
   "nbconvert_exporter": "python",
   "pygments_lexer": "ipython3",
   "version": "3.9.7"
  },
  "orig_nbformat": 4
 },
 "nbformat": 4,
 "nbformat_minor": 2
}
