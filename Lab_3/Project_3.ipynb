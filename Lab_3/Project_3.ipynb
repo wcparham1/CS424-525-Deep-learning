{
 "cells": [
  {
   "cell_type": "code",
   "execution_count": 1,
   "metadata": {},
   "outputs": [],
   "source": [
    "import os\n",
    "import numpy as np\n",
    "from numpy import array\n",
    "from tensorflow.keras.utils import to_categorical\n",
    "from tensorflow.keras.models import Sequential\n",
    "from tensorflow.keras.layers import Dense\n",
    "import tensorflow as tf\n",
    "from tensorflow import keras\n",
    "from tensorflow.keras import layers\n",
    "from tensorflow.keras import activations\n",
    "from PIL import Image"
   ]
  },
  {
   "cell_type": "code",
   "execution_count": 2,
   "metadata": {},
   "outputs": [],
   "source": [
    "#Now we will build the neural network model\n",
    "model = Sequential()\n",
    "\n",
    "#Adding the input layer\n",
    "model.add(layers.Dense(units=1024,input_shape=(1,1,1024)))\n",
    "\n",
    "#Adding the first hidden layer\n",
    "model.add(layers.Dense(units=1024, activation='tanh'))\n",
    "\n",
    "#Adding the second hidden layer\n",
    "model.add(layers.Dense(units=512, activation='sigmoid'))\n",
    "\n",
    "#Adding the third hidden layer\n",
    "model.add(layers.Dense(units=100, activation='relu'))\n",
    "\n",
    "#Adding the output layer\n",
    "model.add(layers.Dense(units=2, activation='softmax'))"
   ]
  },
  {
   "cell_type": "code",
   "execution_count": 10,
   "metadata": {},
   "outputs": [
    {
     "name": "stdout",
     "output_type": "stream",
     "text": [
      "old flatten: \n",
      " [ 1 12 16 ... 23 17 20]\n",
      "0\n",
      "93\n",
      "new flatten: \n",
      " [0 0 0 ... 0 0 0]\n"
     ]
    }
   ],
   "source": [
    "#flatten each image and put them into a list\n",
    "flattened_images = []\n",
    "for i in range(1, 101):\n",
    "    f_string = 'train/' + str(i) + '.jpg'\n",
    "    im = Image.open(f_string)\n",
    "    im = np.array(im)\n",
    "    flat_im = im.flatten()\n",
    "    flattened_images.append(flat_im)\n",
    "\n",
    "print('old flatten: \\n', flattened_images[0])\n",
    "for img in flattened_images:\n",
    "    minimum_val = img.min()\n",
    "    maximum_val = img.max()\n",
    "    print(minimum_val)\n",
    "    print(maximum_val)\n",
    "    for i in range(0, len(img)):\n",
    "        img[i] = (img[i] - minimum_val)/(maximum_val - minimum_val)\n",
    "    break\n",
    "\n",
    "print('new flatten: \\n', flattened_images[0])\n",
    "        "
   ]
  }
 ],
 "metadata": {
  "kernelspec": {
   "display_name": "Python 3",
   "language": "python",
   "name": "python3"
  },
  "language_info": {
   "codemirror_mode": {
    "name": "ipython",
    "version": 3
   },
   "file_extension": ".py",
   "mimetype": "text/x-python",
   "name": "python",
   "nbconvert_exporter": "python",
   "pygments_lexer": "ipython3",
   "version": "3.9.7"
  },
  "orig_nbformat": 4
 },
 "nbformat": 4,
 "nbformat_minor": 2
}
