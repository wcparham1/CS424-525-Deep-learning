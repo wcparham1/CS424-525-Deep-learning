{
 "cells": [
  {
   "attachments": {},
   "cell_type": "markdown",
   "id": "2adb05c1",
   "metadata": {},
   "source": [
    "# Project 4\n",
    "## Students:\n",
    " > Abdurhman Bahour,\n",
    " > Coby White,\n",
    " > William C. Parham\n",
    " \n",
    " "
   ]
  },
  {
   "cell_type": "code",
   "execution_count": 65,
   "id": "563a5a83",
   "metadata": {},
   "outputs": [],
   "source": [
    "import tensorflow as tf\n",
    "from tensorflow import keras\n",
    "from tensorflow.keras import layers, Model\n",
    "import numpy as np\n",
    "import re"
   ]
  },
  {
   "cell_type": "code",
   "execution_count": 66,
   "id": "b2ebf08e",
   "metadata": {},
   "outputs": [
    {
     "name": "stdout",
     "output_type": "stream",
     "text": [
      "2.12.0\n"
     ]
    }
   ],
   "source": [
    "print(tf.__version__)# you may want to upgrade to 2.10.0 "
   ]
  },
  {
   "cell_type": "markdown",
   "id": "17a95a42",
   "metadata": {},
   "source": [
    "### Please Use Markdown\n",
    "> for markdown, see here: https://www.ibm.com/docs/en/watson-studio-local/1.2.3?topic=notebooks-markdown-jupyter-cheatsheet"
   ]
  },
  {
   "cell_type": "markdown",
   "id": "ddae40d9",
   "metadata": {},
   "source": [
    "## Task 1"
   ]
  },
  {
   "cell_type": "code",
   "execution_count": 67,
   "id": "8ee6cb0d",
   "metadata": {},
   "outputs": [],
   "source": [
    "class TransformerModel():\n",
    "    def __init__(self, vocab_size, embed_dim=256, num_heads=2, num_blocks=1, ff_dim=256, maxlen=64, rate=0.1):\n",
    "        #initailize variables\n",
    "        self.vocab_size = vocab_size\n",
    "        self.embed_dim = embed_dim\n",
    "        self.num_heads = num_heads    #Use with transformerblock function\n",
    "        self.num_blocks = num_blocks\n",
    "        self.ff_dim = ff_dim\n",
    "        self.maxlen = maxlen\n",
    "        self.rate = rate              #Use with dropout layer creation\n",
    "\n",
    "    def TransformerBlock(self, inputs):\n",
    "        #create the transformer block as discribed in the writeup, use the Keras functional API (https://keras.io/guides/functional_api/)\n",
    "        #add the inputs which should be a positional embedding and token embedding\n",
    "       \n",
    "        #MultiHeadAttention layer, specifiy 'use_causal_mask=True' (https://keras.io/api/layers/attention_layers/multi_head_attention/)\n",
    "        # layer_1 = layers.MultiHeadAttention(num_heads=self.num_heads, key_dim=, use_casual_mask=True)(input_tensor)\n",
    "        layer_1 = layers.MultiHeadAttention(num_heads=self.num_heads, key_dim=self.embed_dim, use_bias=False, dropout=self.rate)(inputs, inputs, use_causal_mask=True)\n",
    "\n",
    "        # layer_1 = layers.MultiHeadAttention(num_heads=self.num_heads, key_dim=self.embed_dim, use_bias=False, use_casual_mask=True, dropout=self.rate, name='multi_head_attention')(input_tensor)\n",
    "        #Use the rate variable for the dropout layers\n",
    "        layer_2 = layers.Dropout(rate=self.rate)(layer_1)\n",
    "        \n",
    "        #adder layer, output of prev dropout and input tensor\n",
    "        layer_adder = layers.Add()([layer_2, inputs])\n",
    "        \n",
    "        #LayerNormalization layer, specifiy 'epsilon=1e-6' (https://keras.io/api/layers/normalization_layers/layer_normalization/)\n",
    "        layer_3 = layers.LayerNormalization(epsilon=1e-6)(layer_adder)\n",
    "        \n",
    "        #first dense layer\n",
    "        layer_4 = layers.Dense(units=256)(layer_3)\n",
    "        \n",
    "        #second dense layer\n",
    "        layer_5 = layers.Dense(units=256)(layer_4)\n",
    "        \n",
    "        #dropout layer\n",
    "        layer_6 = layers.Dropout(rate=self.rate)(layer_5)\n",
    "        \n",
    "        #adder layer, output of previous dropout and layer layer normalization layer\n",
    "        layer_adder_2 = layers.Add()([layer_3, layer_6])\n",
    "        \n",
    "        #output layer, final layer normalization layer\n",
    "        output_layer = layers.LayerNormalization(epsilon=1e-6)(layer_adder_2)\n",
    "        \n",
    "        return output_layer\n",
    "        \n",
    "    def EmbeddingLayer(self, inputs):\n",
    "            \n",
    "        #create the embedding layer\n",
    "        #create (1) an embedding for the tokens and (2) an embedding for the positions\n",
    "        #you can use https://keras.io/api/layers/core_layers/embedding/ Embedding class\n",
    "        #you can use tf.range to enocde positions\n",
    "        #add (1) and (2) and return the layer\n",
    "\n",
    "        # Define the token embedding layer\n",
    "        token_embedding_layer = layers.Embedding(self.vocab_size, self.embed_dim)(inputs)\n",
    "\n",
    "        # Define the positional embedding layer\n",
    "        position_embedding_layer = layers.Embedding(self.maxlen, self.embed_dim)(tf.range(start=0, limit=self.maxlen, delta=1))\n",
    "\n",
    "        # Combine the token embedding and positional embedding layers\n",
    "        combined_embedding_layer = layers.Add()([token_embedding_layer, position_embedding_layer])\n",
    "\n",
    "        return combined_embedding_layer\n",
    "    \n",
    "    def create_model(self):\n",
    "        \n",
    "        #combine the EmbeddingLayer and num_blocks TransformerBlocks to create the model, use the Keras functional API (https://keras.io/guides/functional_api/)\n",
    "        #See the section on the functional API link \"All models are callabe, just like layers\" for code refernce\n",
    "        transformer_input = keras.Input(shape=self.maxlen,  name='inputs')\n",
    "        embed_block = self.EmbeddingLayer(inputs=transformer_input)\n",
    "        transformer_block = embed_block\n",
    "        for _ in range(self.num_blocks):\n",
    "            transformer_block = self.TransformerBlock(inputs=transformer_block)\n",
    "\n",
    "        model = Model(inputs=transformer_input, outputs=transformer_block)\n",
    "        model.compile(optimizer='adam', loss='sparse_categorical_crossentropy', metrics=['accuracy'])\n",
    "\n",
    "        return model\n",
    "        #use the SparseCategoricalCrossentropy loss function (https://keras.io/api/losses/probabilistic_losses/#sparsecategoricalcrossentropy-class)"
   ]
  },
  {
   "cell_type": "markdown",
   "id": "c5ad747b",
   "metadata": {},
   "source": [
    "## Task 2"
   ]
  },
  {
   "cell_type": "code",
   "execution_count": 68,
   "id": "227111a5",
   "metadata": {},
   "outputs": [],
   "source": [
    "class DataSet():\n",
    "    def __init__(self, filename, len):\n",
    "        #load the text from the file\n",
    "        \n",
    "        # open file and read text\n",
    "        t_file = open(filename, \"r\")\n",
    "        self.f_string = t_file.read()\n",
    "\n",
    "        self.vocab_size = 0\n",
    "        self.vocab = []\n",
    "        self.int_string = []\n",
    "        self.len = len\n",
    "\n",
    "        pass\n",
    "        \n",
    "    def prep_text(self):\n",
    "        #remove all punctuation, set to lowercase, remove duplicate spaces and other whitespace (keep newlines)\n",
    "\n",
    "        # Remove all punctuation\n",
    "        self.f_string = re.sub(r'[^\\w\\s]', '', self.f_string)\n",
    "        # Set to lowercase\n",
    "        self.f_string = self.f_string.lower()\n",
    "        # Remove duplicate spaces and other whitespace\n",
    "        self.f_string = re.sub(r'\\s+', ' ', self.f_string)\n",
    "\n",
    "        # Remove leading and trailing whitespace\n",
    "        self.f_string = self.f_string.strip()        \n",
    "        \n",
    "    def tokenize_text(self):\n",
    "        #seperate into words, create a vocab and convert the text to a list of numbers using the vocab such that each unique word is represented by its own number number\n",
    "        \n",
    "        vocab, self.text = np.unique(self.f_string, return_inverse=True)\n",
    "        self.vocab_size = len(vocab)\n",
    "        # # seperate into words\n",
    "        # self.f_string = self.f_string.split()\n",
    "        # # create a vocab\n",
    "        # self.vocab = sorted(set(self.f_string))\n",
    "        # # convert the text to a list of numbers using the vocab\n",
    "        # self.f_string = [self.vocab.index(i) for i in self.f_string]\n",
    "        # # each word is represented by its own number number\n",
    "        # self.vocab_size = len(self.vocab)\n",
    "        # # make vocab_size unique numbers\n",
    "        # self.int_string = np.unique(self.vocab_size)\n",
    "\n",
    "    def create_dataset(self):\n",
    "        #split the tokenized data into sequences of length len, return the sequences and vocab\n",
    "        # The create dataset method will call prep text, tokenize text, and then create and\n",
    "        # return the x, y, and vocabulary used to train your model. Here, each element of x\n",
    "        # is a sequence of integers (representing words) and y is offset forward by one, such\n",
    "        # that x and y have the same length.\n",
    "\n",
    "        self.prep_text()\n",
    "        self.tokenize_text()\n",
    "\n",
    "        # create x and y\n",
    "        x = []\n",
    "        y = []\n",
    "        for i in range(len(self.f_string) - self.len):\n",
    "            x.append(self.f_string[i:i + self.len])\n",
    "            y.append(self.f_string[i + self.len])\n",
    "        \n",
    "\n",
    "        return self.vocab,x,y\n"
   ]
  },
  {
   "cell_type": "markdown",
   "id": "39c3a399",
   "metadata": {},
   "source": [
    "## Task 3"
   ]
  },
  {
   "cell_type": "code",
   "execution_count": 69,
   "id": "6ffe1274",
   "metadata": {},
   "outputs": [],
   "source": [
    "class GenerateText():\n",
    "    def __init__(self, model, vocab):\n",
    "    # The init method will instantiates the reference to the model and vocabulary. It\n",
    "    # also create a mapping from the integer representation of tokens/words into a\n",
    "    # human-readable format.\n",
    "        self.model = model\n",
    "        self.vocab = vocab\n",
    "        self.int_to_vocab = dict(enumerate(self.vocab))\n",
    "        self.vocab_to_int = {self.int_to_vocab[i]: i for i in self.int_to_vocab}\n",
    "    \n",
    "    def generate_text(self, start_string, num_generate=100):\n",
    "        #generate text using the model and vocab, start with the start_string and generate num_generate words\n",
    "        # The generate text method will use a start string and generate a number of addi-tional words. \n",
    "        # The start string should take in at least one word to initialize the beginning of the return sequence\n",
    "        tokenized_start_string = [self.vocab_to_int[i] for i in start_string.split()]\n",
    "\n",
    "        # Number of words to generate\n",
    "        for i in range(num_generate):\n",
    "            # Tokenize the start string\n",
    "            # Pad the start string\n",
    "            tokenized_start_string = tf.keras.preprocessing.sequence.pad_sequences(tokenized_start_string, maxlen=100, padding='post')\n",
    "            # Predict the next word\n",
    "            predicted_word = self.model.predict(tokenized_start_string)\n",
    "            # Add the predicted word to the start string\n",
    "            start_string += self.int_to_vocab[predicted_word]\n",
    "\n",
    "    def generate_random_text(self, num_words):\n",
    "        # Generate random start string\n",
    "        start_string = \" \".join(np.random.choice(self.vocab, size=np.random.randint(1, 10)))\n",
    "\n",
    "        # Call generate_text method with random start string\n",
    "        return self.generate_text(start_string, num_words)"
   ]
  },
  {
   "cell_type": "markdown",
   "id": "edd0bd9d",
   "metadata": {},
   "source": [
    "## Task 4: Model Traning and Testing"
   ]
  },
  {
   "cell_type": "code",
   "execution_count": 70,
   "id": "1b59dd48",
   "metadata": {},
   "outputs": [],
   "source": [
    "#Train the model while periodically generating text to show progress\n",
    "def train_model(model, vocab, x, y, epochs=50):\n",
    "    # Generate text\n",
    "    for e in range(epochs):\n",
    "        print(f\"Epoch {e}\")\n",
    "        # Train the model\n",
    "        model.fit(x, y, epochs=1, batch_size=128, verbose=1)\n",
    "\n",
    "        # Generate text\n",
    "        text = GenerateText.generate_text(model, vocab)\n",
    "        random_text = GenerateText.generate_random_text(100)\n",
    "\n",
    "    \n",
    "    return model"
   ]
  },
  {
   "cell_type": "code",
   "execution_count": 71,
   "id": "de5537ed",
   "metadata": {},
   "outputs": [
    {
     "name": "stdout",
     "output_type": "stream",
     "text": [
      "169389\n",
      "Epoch 0\n"
     ]
    },
    {
     "ename": "ValueError",
     "evalue": "in user code:\n\n    File \"C:\\Users\\bahou\\AppData\\Local\\Packages\\PythonSoftwareFoundation.Python.3.10_qbz5n2kfra8p0\\LocalCache\\local-packages\\Python310\\site-packages\\keras\\engine\\training.py\", line 1284, in train_function  *\n        return step_function(self, iterator)\n    File \"C:\\Users\\bahou\\AppData\\Local\\Packages\\PythonSoftwareFoundation.Python.3.10_qbz5n2kfra8p0\\LocalCache\\local-packages\\Python310\\site-packages\\keras\\engine\\training.py\", line 1268, in step_function  **\n        outputs = model.distribute_strategy.run(run_step, args=(data,))\n    File \"C:\\Users\\bahou\\AppData\\Local\\Packages\\PythonSoftwareFoundation.Python.3.10_qbz5n2kfra8p0\\LocalCache\\local-packages\\Python310\\site-packages\\keras\\engine\\training.py\", line 1249, in run_step  **\n        outputs = model.train_step(data)\n    File \"C:\\Users\\bahou\\AppData\\Local\\Packages\\PythonSoftwareFoundation.Python.3.10_qbz5n2kfra8p0\\LocalCache\\local-packages\\Python310\\site-packages\\keras\\engine\\training.py\", line 1050, in train_step\n        y_pred = self(x, training=True)\n    File \"C:\\Users\\bahou\\AppData\\Local\\Packages\\PythonSoftwareFoundation.Python.3.10_qbz5n2kfra8p0\\LocalCache\\local-packages\\Python310\\site-packages\\keras\\utils\\traceback_utils.py\", line 70, in error_handler\n        raise e.with_traceback(filtered_tb) from None\n\n    ValueError: Exception encountered when calling layer 'query' (type EinsumDense).\n    \n    Shape must be rank 3 but is rank 2\n    \t for 0th input and equation: abc,cde->abde for '{{node model_10/multi_head_attention_10/query/einsum/Einsum}} = Einsum[N=2, T=DT_FLOAT, equation=\"abc,cde->abde\"](model_10/add_30/add, model_10/multi_head_attention_10/query/einsum/Einsum/ReadVariableOp)' with input shapes: [64,256], [256,2,256].\n    \n    Call arguments received by layer 'query' (type EinsumDense):\n      • inputs=tf.Tensor(shape=(64, 256), dtype=float32)\n",
     "output_type": "error",
     "traceback": [
      "\u001b[1;31m---------------------------------------------------------------------------\u001b[0m",
      "\u001b[1;31mValueError\u001b[0m                                Traceback (most recent call last)",
      "\u001b[1;32mc:\\Users\\bahou\\Desktop\\DeepFinal\\CS424-525-Deep-learning\\Lab_4\\Project4_Shell.ipynb Cell 13\u001b[0m in \u001b[0;36m<cell line: 10>\u001b[1;34m()\u001b[0m\n\u001b[0;32m      <a href='vscode-notebook-cell:/c%3A/Users/bahou/Desktop/DeepFinal/CS424-525-Deep-learning/Lab_4/Project4_Shell.ipynb#X15sZmlsZQ%3D%3D?line=6'>7</a>\u001b[0m model \u001b[39m=\u001b[39m TransformerModel(\u001b[39mlen\u001b[39m(f_string))\u001b[39m.\u001b[39mcreate_model()\n\u001b[0;32m      <a href='vscode-notebook-cell:/c%3A/Users/bahou/Desktop/DeepFinal/CS424-525-Deep-learning/Lab_4/Project4_Shell.ipynb#X15sZmlsZQ%3D%3D?line=8'>9</a>\u001b[0m \u001b[39m# Train the model\u001b[39;00m\n\u001b[1;32m---> <a href='vscode-notebook-cell:/c%3A/Users/bahou/Desktop/DeepFinal/CS424-525-Deep-learning/Lab_4/Project4_Shell.ipynb#X15sZmlsZQ%3D%3D?line=9'>10</a>\u001b[0m model \u001b[39m=\u001b[39m train_model(model, clean_data[\u001b[39m0\u001b[39;49m], clean_data[\u001b[39m1\u001b[39;49m], clean_data[\u001b[39m2\u001b[39;49m], epochs\u001b[39m=\u001b[39;49m\u001b[39m50\u001b[39;49m)\n",
      "\u001b[1;32mc:\\Users\\bahou\\Desktop\\DeepFinal\\CS424-525-Deep-learning\\Lab_4\\Project4_Shell.ipynb Cell 13\u001b[0m in \u001b[0;36mtrain_model\u001b[1;34m(model, vocab, x, y, epochs)\u001b[0m\n\u001b[0;32m      <a href='vscode-notebook-cell:/c%3A/Users/bahou/Desktop/DeepFinal/CS424-525-Deep-learning/Lab_4/Project4_Shell.ipynb#X15sZmlsZQ%3D%3D?line=4'>5</a>\u001b[0m \u001b[39mprint\u001b[39m(\u001b[39mf\u001b[39m\u001b[39m\"\u001b[39m\u001b[39mEpoch \u001b[39m\u001b[39m{\u001b[39;00me\u001b[39m}\u001b[39;00m\u001b[39m\"\u001b[39m)\n\u001b[0;32m      <a href='vscode-notebook-cell:/c%3A/Users/bahou/Desktop/DeepFinal/CS424-525-Deep-learning/Lab_4/Project4_Shell.ipynb#X15sZmlsZQ%3D%3D?line=5'>6</a>\u001b[0m \u001b[39m# Train the model\u001b[39;00m\n\u001b[1;32m----> <a href='vscode-notebook-cell:/c%3A/Users/bahou/Desktop/DeepFinal/CS424-525-Deep-learning/Lab_4/Project4_Shell.ipynb#X15sZmlsZQ%3D%3D?line=6'>7</a>\u001b[0m model\u001b[39m.\u001b[39;49mfit(x, y, epochs\u001b[39m=\u001b[39;49m\u001b[39m1\u001b[39;49m, batch_size\u001b[39m=\u001b[39;49m\u001b[39m128\u001b[39;49m, verbose\u001b[39m=\u001b[39;49m\u001b[39m1\u001b[39;49m)\n\u001b[0;32m      <a href='vscode-notebook-cell:/c%3A/Users/bahou/Desktop/DeepFinal/CS424-525-Deep-learning/Lab_4/Project4_Shell.ipynb#X15sZmlsZQ%3D%3D?line=8'>9</a>\u001b[0m \u001b[39m# Generate text\u001b[39;00m\n\u001b[0;32m     <a href='vscode-notebook-cell:/c%3A/Users/bahou/Desktop/DeepFinal/CS424-525-Deep-learning/Lab_4/Project4_Shell.ipynb#X15sZmlsZQ%3D%3D?line=9'>10</a>\u001b[0m text \u001b[39m=\u001b[39m GenerateText\u001b[39m.\u001b[39mgenerate_text(model, vocab)\n",
      "File \u001b[1;32m~\\AppData\\Local\\Packages\\PythonSoftwareFoundation.Python.3.10_qbz5n2kfra8p0\\LocalCache\\local-packages\\Python310\\site-packages\\keras\\utils\\traceback_utils.py:70\u001b[0m, in \u001b[0;36mfilter_traceback.<locals>.error_handler\u001b[1;34m(*args, **kwargs)\u001b[0m\n\u001b[0;32m     67\u001b[0m     filtered_tb \u001b[39m=\u001b[39m _process_traceback_frames(e\u001b[39m.\u001b[39m__traceback__)\n\u001b[0;32m     68\u001b[0m     \u001b[39m# To get the full stack trace, call:\u001b[39;00m\n\u001b[0;32m     69\u001b[0m     \u001b[39m# `tf.debugging.disable_traceback_filtering()`\u001b[39;00m\n\u001b[1;32m---> 70\u001b[0m     \u001b[39mraise\u001b[39;00m e\u001b[39m.\u001b[39mwith_traceback(filtered_tb) \u001b[39mfrom\u001b[39;00m \u001b[39mNone\u001b[39m\n\u001b[0;32m     71\u001b[0m \u001b[39mfinally\u001b[39;00m:\n\u001b[0;32m     72\u001b[0m     \u001b[39mdel\u001b[39;00m filtered_tb\n",
      "File \u001b[1;32m~\\AppData\\Local\\Temp\\__autograph_generated_fileymy6qk8y.py:15\u001b[0m, in \u001b[0;36mouter_factory.<locals>.inner_factory.<locals>.tf__train_function\u001b[1;34m(iterator)\u001b[0m\n\u001b[0;32m     13\u001b[0m \u001b[39mtry\u001b[39;00m:\n\u001b[0;32m     14\u001b[0m     do_return \u001b[39m=\u001b[39m \u001b[39mTrue\u001b[39;00m\n\u001b[1;32m---> 15\u001b[0m     retval_ \u001b[39m=\u001b[39m ag__\u001b[39m.\u001b[39mconverted_call(ag__\u001b[39m.\u001b[39mld(step_function), (ag__\u001b[39m.\u001b[39mld(\u001b[39mself\u001b[39m), ag__\u001b[39m.\u001b[39mld(iterator)), \u001b[39mNone\u001b[39;00m, fscope)\n\u001b[0;32m     16\u001b[0m \u001b[39mexcept\u001b[39;00m:\n\u001b[0;32m     17\u001b[0m     do_return \u001b[39m=\u001b[39m \u001b[39mFalse\u001b[39;00m\n",
      "\u001b[1;31mValueError\u001b[0m: in user code:\n\n    File \"C:\\Users\\bahou\\AppData\\Local\\Packages\\PythonSoftwareFoundation.Python.3.10_qbz5n2kfra8p0\\LocalCache\\local-packages\\Python310\\site-packages\\keras\\engine\\training.py\", line 1284, in train_function  *\n        return step_function(self, iterator)\n    File \"C:\\Users\\bahou\\AppData\\Local\\Packages\\PythonSoftwareFoundation.Python.3.10_qbz5n2kfra8p0\\LocalCache\\local-packages\\Python310\\site-packages\\keras\\engine\\training.py\", line 1268, in step_function  **\n        outputs = model.distribute_strategy.run(run_step, args=(data,))\n    File \"C:\\Users\\bahou\\AppData\\Local\\Packages\\PythonSoftwareFoundation.Python.3.10_qbz5n2kfra8p0\\LocalCache\\local-packages\\Python310\\site-packages\\keras\\engine\\training.py\", line 1249, in run_step  **\n        outputs = model.train_step(data)\n    File \"C:\\Users\\bahou\\AppData\\Local\\Packages\\PythonSoftwareFoundation.Python.3.10_qbz5n2kfra8p0\\LocalCache\\local-packages\\Python310\\site-packages\\keras\\engine\\training.py\", line 1050, in train_step\n        y_pred = self(x, training=True)\n    File \"C:\\Users\\bahou\\AppData\\Local\\Packages\\PythonSoftwareFoundation.Python.3.10_qbz5n2kfra8p0\\LocalCache\\local-packages\\Python310\\site-packages\\keras\\utils\\traceback_utils.py\", line 70, in error_handler\n        raise e.with_traceback(filtered_tb) from None\n\n    ValueError: Exception encountered when calling layer 'query' (type EinsumDense).\n    \n    Shape must be rank 3 but is rank 2\n    \t for 0th input and equation: abc,cde->abde for '{{node model_10/multi_head_attention_10/query/einsum/Einsum}} = Einsum[N=2, T=DT_FLOAT, equation=\"abc,cde->abde\"](model_10/add_30/add, model_10/multi_head_attention_10/query/einsum/Einsum/ReadVariableOp)' with input shapes: [64,256], [256,2,256].\n    \n    Call arguments received by layer 'query' (type EinsumDense):\n      • inputs=tf.Tensor(shape=(64, 256), dtype=float32)\n"
     ]
    }
   ],
   "source": [
    "t_file = open(\"beatles.txt\", \"r\")\n",
    "f_string = t_file.read()\n",
    "print(len(f_string))\n",
    "\n",
    "# clean the data\n",
    "clean_data = DataSet(\"beatles.txt\", 100).create_dataset()\n",
    "model = TransformerModel(len(f_string)).create_model()\n",
    "\n",
    "# Train the model\n",
    "model = train_model(model, clean_data[0], clean_data[1], clean_data[2], epochs=50)"
   ]
  },
  {
   "cell_type": "markdown",
   "id": "658fa81b",
   "metadata": {},
   "source": [
    "\n",
    "# Report"
   ]
  },
  {
   "cell_type": "markdown",
   "id": "f7b723a2",
   "metadata": {},
   "source": [
    "## Introduction"
   ]
  },
  {
   "cell_type": "markdown",
   "id": "6855b442",
   "metadata": {},
   "source": [
    "## Results"
   ]
  },
  {
   "cell_type": "markdown",
   "id": "7c41dc86",
   "metadata": {},
   "source": [
    "## Conclusion"
   ]
  },
  {
   "cell_type": "markdown",
   "id": "3812e555",
   "metadata": {},
   "source": [
    "## How to Run Code\n",
    "\n",
    "Please include any special libraries and list your tf version here."
   ]
  }
 ],
 "metadata": {
  "kernelspec": {
   "display_name": "Python 3",
   "language": "python",
   "name": "python3"
  },
  "language_info": {
   "codemirror_mode": {
    "name": "ipython",
    "version": 3
   },
   "file_extension": ".py",
   "mimetype": "text/x-python",
   "name": "python",
   "nbconvert_exporter": "python",
   "pygments_lexer": "ipython3",
   "version": "3.10.11"
  }
 },
 "nbformat": 4,
 "nbformat_minor": 5
}
